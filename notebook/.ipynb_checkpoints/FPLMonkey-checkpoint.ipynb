{
 "cells": [
  {
   "cell_type": "markdown",
   "metadata": {},
   "source": [
    "# FPLMonkey Notebook"
   ]
  },
  {
   "cell_type": "code",
   "execution_count": 24,
   "metadata": {},
   "outputs": [],
   "source": [
    "import numpy as np # linear algebra\n",
    "import pandas as pd # data processing, CSV file I/O (e.g. pd.read_csv)\n",
    "from helpers import *\n",
    "from pathlib import Path\n",
    "from fastai.tabular.all import *\n",
    "from matplotlib import style"
   ]
  },
  {
   "cell_type": "code",
   "execution_count": 2,
   "metadata": {},
   "outputs": [],
   "source": [
    "path = Path('./')"
   ]
  },
  {
   "cell_type": "code",
   "execution_count": 3,
   "metadata": {},
   "outputs": [
    {
     "name": "stderr",
     "output_type": "stream",
     "text": [
      "/Users/kjetildyrland/anaconda3/envs/fplmonkey/lib/python3.9/site-packages/IPython/core/interactiveshell.py:3165: DtypeWarning: Columns (39,40) have mixed types.Specify dtype option on import or set low_memory=False.\n",
      "  has_raised = await self.run_ast_nodes(code_ast.body, cell_name,\n"
     ]
    }
   ],
   "source": [
    "train_df = pd.read_csv(path/'data/train_v7.csv', index_col=0, dtype={'season':str})"
   ]
  },
  {
   "cell_type": "code",
   "execution_count": 4,
   "metadata": {},
   "outputs": [
    {
     "data": {
      "text/html": [
       "<div>\n",
       "<style scoped>\n",
       "    .dataframe tbody tr th:only-of-type {\n",
       "        vertical-align: middle;\n",
       "    }\n",
       "\n",
       "    .dataframe tbody tr th {\n",
       "        vertical-align: top;\n",
       "    }\n",
       "\n",
       "    .dataframe thead th {\n",
       "        text-align: right;\n",
       "    }\n",
       "</style>\n",
       "<table border=\"1\" class=\"dataframe\">\n",
       "  <thead>\n",
       "    <tr style=\"text-align: right;\">\n",
       "      <th></th>\n",
       "      <th>player</th>\n",
       "      <th>gw</th>\n",
       "      <th>position</th>\n",
       "      <th>minutes</th>\n",
       "      <th>team</th>\n",
       "      <th>opponent_team</th>\n",
       "      <th>relative_market_value_team</th>\n",
       "      <th>relative_market_value_opponent_team</th>\n",
       "      <th>was_home</th>\n",
       "      <th>total_points</th>\n",
       "      <th>...</th>\n",
       "      <th>npxg</th>\n",
       "      <th>xa</th>\n",
       "      <th>sca</th>\n",
       "      <th>gca</th>\n",
       "      <th>passes_completed</th>\n",
       "      <th>passes</th>\n",
       "      <th>passes_pct</th>\n",
       "      <th>carries</th>\n",
       "      <th>dribbles_completed</th>\n",
       "      <th>dribbles</th>\n",
       "    </tr>\n",
       "  </thead>\n",
       "  <tbody>\n",
       "    <tr>\n",
       "      <th>0</th>\n",
       "      <td>Aaron Cresswell</td>\n",
       "      <td>1</td>\n",
       "      <td>2</td>\n",
       "      <td>0</td>\n",
       "      <td>West Ham United</td>\n",
       "      <td>Chelsea</td>\n",
       "      <td>NaN</td>\n",
       "      <td>NaN</td>\n",
       "      <td>False</td>\n",
       "      <td>0</td>\n",
       "      <td>...</td>\n",
       "      <td>NaN</td>\n",
       "      <td>NaN</td>\n",
       "      <td>NaN</td>\n",
       "      <td>NaN</td>\n",
       "      <td>NaN</td>\n",
       "      <td>NaN</td>\n",
       "      <td>NaN</td>\n",
       "      <td>NaN</td>\n",
       "      <td>NaN</td>\n",
       "      <td>NaN</td>\n",
       "    </tr>\n",
       "    <tr>\n",
       "      <th>1</th>\n",
       "      <td>Aaron Lennon</td>\n",
       "      <td>1</td>\n",
       "      <td>3</td>\n",
       "      <td>15</td>\n",
       "      <td>Everton</td>\n",
       "      <td>Tottenham Hotspur</td>\n",
       "      <td>NaN</td>\n",
       "      <td>NaN</td>\n",
       "      <td>True</td>\n",
       "      <td>1</td>\n",
       "      <td>...</td>\n",
       "      <td>NaN</td>\n",
       "      <td>NaN</td>\n",
       "      <td>NaN</td>\n",
       "      <td>NaN</td>\n",
       "      <td>NaN</td>\n",
       "      <td>NaN</td>\n",
       "      <td>NaN</td>\n",
       "      <td>NaN</td>\n",
       "      <td>NaN</td>\n",
       "      <td>NaN</td>\n",
       "    </tr>\n",
       "    <tr>\n",
       "      <th>2</th>\n",
       "      <td>Aaron Ramsey</td>\n",
       "      <td>1</td>\n",
       "      <td>3</td>\n",
       "      <td>60</td>\n",
       "      <td>Arsenal</td>\n",
       "      <td>Liverpool</td>\n",
       "      <td>NaN</td>\n",
       "      <td>NaN</td>\n",
       "      <td>True</td>\n",
       "      <td>2</td>\n",
       "      <td>...</td>\n",
       "      <td>NaN</td>\n",
       "      <td>NaN</td>\n",
       "      <td>NaN</td>\n",
       "      <td>NaN</td>\n",
       "      <td>NaN</td>\n",
       "      <td>NaN</td>\n",
       "      <td>NaN</td>\n",
       "      <td>NaN</td>\n",
       "      <td>NaN</td>\n",
       "      <td>NaN</td>\n",
       "    </tr>\n",
       "    <tr>\n",
       "      <th>3</th>\n",
       "      <td>Abdoulaye Doucouré</td>\n",
       "      <td>1</td>\n",
       "      <td>3</td>\n",
       "      <td>0</td>\n",
       "      <td>Watford</td>\n",
       "      <td>Southampton</td>\n",
       "      <td>NaN</td>\n",
       "      <td>NaN</td>\n",
       "      <td>False</td>\n",
       "      <td>0</td>\n",
       "      <td>...</td>\n",
       "      <td>NaN</td>\n",
       "      <td>NaN</td>\n",
       "      <td>NaN</td>\n",
       "      <td>NaN</td>\n",
       "      <td>NaN</td>\n",
       "      <td>NaN</td>\n",
       "      <td>NaN</td>\n",
       "      <td>NaN</td>\n",
       "      <td>NaN</td>\n",
       "      <td>NaN</td>\n",
       "    </tr>\n",
       "    <tr>\n",
       "      <th>4</th>\n",
       "      <td>Abdul Rahman Baba</td>\n",
       "      <td>1</td>\n",
       "      <td>2</td>\n",
       "      <td>0</td>\n",
       "      <td>Chelsea</td>\n",
       "      <td>West Ham United</td>\n",
       "      <td>NaN</td>\n",
       "      <td>NaN</td>\n",
       "      <td>True</td>\n",
       "      <td>0</td>\n",
       "      <td>...</td>\n",
       "      <td>NaN</td>\n",
       "      <td>NaN</td>\n",
       "      <td>NaN</td>\n",
       "      <td>NaN</td>\n",
       "      <td>NaN</td>\n",
       "      <td>NaN</td>\n",
       "      <td>NaN</td>\n",
       "      <td>NaN</td>\n",
       "      <td>NaN</td>\n",
       "      <td>NaN</td>\n",
       "    </tr>\n",
       "  </tbody>\n",
       "</table>\n",
       "<p>5 rows × 58 columns</p>\n",
       "</div>"
      ],
      "text/plain": [
       "               player  gw  position  minutes             team  \\\n",
       "0     Aaron Cresswell   1         2        0  West Ham United   \n",
       "1        Aaron Lennon   1         3       15          Everton   \n",
       "2        Aaron Ramsey   1         3       60          Arsenal   \n",
       "3  Abdoulaye Doucouré   1         3        0          Watford   \n",
       "4   Abdul Rahman Baba   1         2        0          Chelsea   \n",
       "\n",
       "       opponent_team  relative_market_value_team  \\\n",
       "0            Chelsea                         NaN   \n",
       "1  Tottenham Hotspur                         NaN   \n",
       "2          Liverpool                         NaN   \n",
       "3        Southampton                         NaN   \n",
       "4    West Ham United                         NaN   \n",
       "\n",
       "   relative_market_value_opponent_team  was_home  total_points  ...  npxg  xa  \\\n",
       "0                                  NaN     False             0  ...   NaN NaN   \n",
       "1                                  NaN      True             1  ...   NaN NaN   \n",
       "2                                  NaN      True             2  ...   NaN NaN   \n",
       "3                                  NaN     False             0  ...   NaN NaN   \n",
       "4                                  NaN      True             0  ...   NaN NaN   \n",
       "\n",
       "   sca  gca  passes_completed  passes  passes_pct  carries  \\\n",
       "0  NaN  NaN               NaN     NaN         NaN      NaN   \n",
       "1  NaN  NaN               NaN     NaN         NaN      NaN   \n",
       "2  NaN  NaN               NaN     NaN         NaN      NaN   \n",
       "3  NaN  NaN               NaN     NaN         NaN      NaN   \n",
       "4  NaN  NaN               NaN     NaN         NaN      NaN   \n",
       "\n",
       "   dribbles_completed  dribbles  \n",
       "0                 NaN       NaN  \n",
       "1                 NaN       NaN  \n",
       "2                 NaN       NaN  \n",
       "3                 NaN       NaN  \n",
       "4                 NaN       NaN  \n",
       "\n",
       "[5 rows x 58 columns]"
      ]
     },
     "execution_count": 4,
     "metadata": {},
     "output_type": "execute_result"
    }
   ],
   "source": [
    "train_df.head()"
   ]
  },
  {
   "cell_type": "code",
   "execution_count": 5,
   "metadata": {},
   "outputs": [
    {
     "name": "stdout",
     "output_type": "stream",
     "text": [
      "<class 'pandas.core.frame.DataFrame'>\n",
      "Int64Index: 107552 entries, 0 to 107551\n",
      "Data columns (total 58 columns):\n",
      " #   Column                                      Non-Null Count   Dtype  \n",
      "---  ------                                      --------------   -----  \n",
      " 0   player                                      107552 non-null  object \n",
      " 1   gw                                          107552 non-null  int64  \n",
      " 2   position                                    107552 non-null  int64  \n",
      " 3   minutes                                     107552 non-null  int64  \n",
      " 4   team                                        107552 non-null  object \n",
      " 5   opponent_team                               107552 non-null  object \n",
      " 6   relative_market_value_team                  39489 non-null   float64\n",
      " 7   relative_market_value_opponent_team         39466 non-null   float64\n",
      " 8   was_home                                    107552 non-null  bool   \n",
      " 9   total_points                                107552 non-null  int64  \n",
      " 10  assists                                     107552 non-null  int64  \n",
      " 11  bonus                                       107552 non-null  int64  \n",
      " 12  bps                                         107552 non-null  int64  \n",
      " 13  clean_sheets                                107552 non-null  int64  \n",
      " 14  creativity                                  107552 non-null  float64\n",
      " 15  goals_conceded                              107552 non-null  int64  \n",
      " 16  goals_scored                                107552 non-null  int64  \n",
      " 17  ict_index                                   107552 non-null  float64\n",
      " 18  influence                                   107552 non-null  float64\n",
      " 19  own_goals                                   107552 non-null  int64  \n",
      " 20  penalties_missed                            107552 non-null  int64  \n",
      " 21  penalties_saved                             107552 non-null  int64  \n",
      " 22  red_cards                                   107552 non-null  int64  \n",
      " 23  saves                                       107552 non-null  int64  \n",
      " 24  selected                                    107552 non-null  int64  \n",
      " 25  team_a_score                                107552 non-null  int64  \n",
      " 26  team_h_score                                107552 non-null  int64  \n",
      " 27  threat                                      107552 non-null  float64\n",
      " 28  transfers_balance                           107552 non-null  int64  \n",
      " 29  transfers_in                                107552 non-null  int64  \n",
      " 30  transfers_out                               107552 non-null  int64  \n",
      " 31  yellow_cards                                107552 non-null  int64  \n",
      " 32  kickoff_time                                107552 non-null  object \n",
      " 33  season                                      107552 non-null  object \n",
      " 34  play_proba                                  38737 non-null   float64\n",
      " 35  relative_market_value_team_season           90862 non-null   float64\n",
      " 36  relative_market_value_opponent_team_season  90862 non-null   float64\n",
      " 37  date                                        107552 non-null  object \n",
      " 38  squad                                       39077 non-null   object \n",
      " 39  comp                                        39077 non-null   object \n",
      " 40  shots_total                                 39077 non-null   float64\n",
      " 41  shots_on_target                             39077 non-null   float64\n",
      " 42  touches                                     39074 non-null   float64\n",
      " 43  pressures                                   39074 non-null   float64\n",
      " 44  tackles                                     39074 non-null   float64\n",
      " 45  interceptions                               39077 non-null   float64\n",
      " 46  blocks                                      39074 non-null   float64\n",
      " 47  xg                                          39074 non-null   float64\n",
      " 48  npxg                                        39074 non-null   float64\n",
      " 49  xa                                          39074 non-null   float64\n",
      " 50  sca                                         39074 non-null   float64\n",
      " 51  gca                                         39074 non-null   float64\n",
      " 52  passes_completed                            39074 non-null   float64\n",
      " 53  passes                                      39074 non-null   float64\n",
      " 54  passes_pct                                  38687 non-null   float64\n",
      " 55  carries                                     39074 non-null   float64\n",
      " 56  dribbles_completed                          39074 non-null   float64\n",
      " 57  dribbles                                    39074 non-null   float64\n",
      "dtypes: bool(1), float64(27), int64(22), object(8)\n",
      "memory usage: 47.7+ MB\n"
     ]
    }
   ],
   "source": [
    "train_df.info()\n"
   ]
  },
  {
   "cell_type": "code",
   "execution_count": 6,
   "metadata": {},
   "outputs": [
    {
     "data": {
      "text/html": [
       "<div>\n",
       "<style scoped>\n",
       "    .dataframe tbody tr th:only-of-type {\n",
       "        vertical-align: middle;\n",
       "    }\n",
       "\n",
       "    .dataframe tbody tr th {\n",
       "        vertical-align: top;\n",
       "    }\n",
       "\n",
       "    .dataframe thead th {\n",
       "        text-align: right;\n",
       "    }\n",
       "</style>\n",
       "<table border=\"1\" class=\"dataframe\">\n",
       "  <thead>\n",
       "    <tr style=\"text-align: right;\">\n",
       "      <th></th>\n",
       "      <th>player</th>\n",
       "      <th>gw</th>\n",
       "      <th>position</th>\n",
       "      <th>minutes</th>\n",
       "      <th>team</th>\n",
       "      <th>opponent_team</th>\n",
       "      <th>relative_market_value_team</th>\n",
       "      <th>relative_market_value_opponent_team</th>\n",
       "      <th>was_home</th>\n",
       "      <th>total_points</th>\n",
       "      <th>...</th>\n",
       "      <th>npxg</th>\n",
       "      <th>xa</th>\n",
       "      <th>sca</th>\n",
       "      <th>gca</th>\n",
       "      <th>passes_completed</th>\n",
       "      <th>passes</th>\n",
       "      <th>passes_pct</th>\n",
       "      <th>carries</th>\n",
       "      <th>dribbles_completed</th>\n",
       "      <th>dribbles</th>\n",
       "    </tr>\n",
       "  </thead>\n",
       "  <tbody>\n",
       "    <tr>\n",
       "      <th>67936</th>\n",
       "      <td>Aaron Cresswell</td>\n",
       "      <td>1</td>\n",
       "      <td>2</td>\n",
       "      <td>90</td>\n",
       "      <td>West Ham United</td>\n",
       "      <td>Manchester City</td>\n",
       "      <td>0.739196</td>\n",
       "      <td>2.727025</td>\n",
       "      <td>True</td>\n",
       "      <td>0</td>\n",
       "      <td>...</td>\n",
       "      <td>0.0</td>\n",
       "      <td>0.0</td>\n",
       "      <td>1.0</td>\n",
       "      <td>0.0</td>\n",
       "      <td>33.0</td>\n",
       "      <td>40.0</td>\n",
       "      <td>82.5</td>\n",
       "      <td>33.0</td>\n",
       "      <td>0.0</td>\n",
       "      <td>2.0</td>\n",
       "    </tr>\n",
       "    <tr>\n",
       "      <th>67937</th>\n",
       "      <td>Aaron Lennon</td>\n",
       "      <td>1</td>\n",
       "      <td>3</td>\n",
       "      <td>6</td>\n",
       "      <td>Burnley</td>\n",
       "      <td>Southampton</td>\n",
       "      <td>0.441799</td>\n",
       "      <td>0.624210</td>\n",
       "      <td>True</td>\n",
       "      <td>1</td>\n",
       "      <td>...</td>\n",
       "      <td>0.0</td>\n",
       "      <td>0.0</td>\n",
       "      <td>0.0</td>\n",
       "      <td>0.0</td>\n",
       "      <td>0.0</td>\n",
       "      <td>1.0</td>\n",
       "      <td>0.0</td>\n",
       "      <td>1.0</td>\n",
       "      <td>0.0</td>\n",
       "      <td>0.0</td>\n",
       "    </tr>\n",
       "    <tr>\n",
       "      <th>67938</th>\n",
       "      <td>Aaron Mooy</td>\n",
       "      <td>1</td>\n",
       "      <td>3</td>\n",
       "      <td>0</td>\n",
       "      <td>Brighton and Hove Albion</td>\n",
       "      <td>Watford</td>\n",
       "      <td>0.476156</td>\n",
       "      <td>0.555819</td>\n",
       "      <td>False</td>\n",
       "      <td>0</td>\n",
       "      <td>...</td>\n",
       "      <td>NaN</td>\n",
       "      <td>NaN</td>\n",
       "      <td>NaN</td>\n",
       "      <td>NaN</td>\n",
       "      <td>NaN</td>\n",
       "      <td>NaN</td>\n",
       "      <td>NaN</td>\n",
       "      <td>NaN</td>\n",
       "      <td>NaN</td>\n",
       "      <td>NaN</td>\n",
       "    </tr>\n",
       "    <tr>\n",
       "      <th>67939</th>\n",
       "      <td>Aaron Ramsdale</td>\n",
       "      <td>1</td>\n",
       "      <td>1</td>\n",
       "      <td>90</td>\n",
       "      <td>Bournemouth</td>\n",
       "      <td>Sheffield United</td>\n",
       "      <td>0.687124</td>\n",
       "      <td>0.150631</td>\n",
       "      <td>True</td>\n",
       "      <td>2</td>\n",
       "      <td>...</td>\n",
       "      <td>0.0</td>\n",
       "      <td>0.0</td>\n",
       "      <td>0.0</td>\n",
       "      <td>0.0</td>\n",
       "      <td>16.0</td>\n",
       "      <td>25.0</td>\n",
       "      <td>64.0</td>\n",
       "      <td>10.0</td>\n",
       "      <td>0.0</td>\n",
       "      <td>0.0</td>\n",
       "    </tr>\n",
       "    <tr>\n",
       "      <th>67940</th>\n",
       "      <td>Aaron Wan-Bissaka</td>\n",
       "      <td>1</td>\n",
       "      <td>2</td>\n",
       "      <td>90</td>\n",
       "      <td>Manchester United</td>\n",
       "      <td>Chelsea</td>\n",
       "      <td>1.679697</td>\n",
       "      <td>1.798870</td>\n",
       "      <td>True</td>\n",
       "      <td>8</td>\n",
       "      <td>...</td>\n",
       "      <td>0.0</td>\n",
       "      <td>0.1</td>\n",
       "      <td>1.0</td>\n",
       "      <td>0.0</td>\n",
       "      <td>43.0</td>\n",
       "      <td>52.0</td>\n",
       "      <td>82.7</td>\n",
       "      <td>42.0</td>\n",
       "      <td>2.0</td>\n",
       "      <td>5.0</td>\n",
       "    </tr>\n",
       "  </tbody>\n",
       "</table>\n",
       "<p>5 rows × 58 columns</p>\n",
       "</div>"
      ],
      "text/plain": [
       "                  player  gw  position  minutes                      team  \\\n",
       "67936    Aaron Cresswell   1         2       90           West Ham United   \n",
       "67937       Aaron Lennon   1         3        6                   Burnley   \n",
       "67938         Aaron Mooy   1         3        0  Brighton and Hove Albion   \n",
       "67939     Aaron Ramsdale   1         1       90               Bournemouth   \n",
       "67940  Aaron Wan-Bissaka   1         2       90         Manchester United   \n",
       "\n",
       "          opponent_team  relative_market_value_team  \\\n",
       "67936   Manchester City                    0.739196   \n",
       "67937       Southampton                    0.441799   \n",
       "67938           Watford                    0.476156   \n",
       "67939  Sheffield United                    0.687124   \n",
       "67940           Chelsea                    1.679697   \n",
       "\n",
       "       relative_market_value_opponent_team  was_home  total_points  ...  npxg  \\\n",
       "67936                             2.727025      True             0  ...   0.0   \n",
       "67937                             0.624210      True             1  ...   0.0   \n",
       "67938                             0.555819     False             0  ...   NaN   \n",
       "67939                             0.150631      True             2  ...   0.0   \n",
       "67940                             1.798870      True             8  ...   0.0   \n",
       "\n",
       "        xa  sca  gca  passes_completed  passes  passes_pct  carries  \\\n",
       "67936  0.0  1.0  0.0              33.0    40.0        82.5     33.0   \n",
       "67937  0.0  0.0  0.0               0.0     1.0         0.0      1.0   \n",
       "67938  NaN  NaN  NaN               NaN     NaN         NaN      NaN   \n",
       "67939  0.0  0.0  0.0              16.0    25.0        64.0     10.0   \n",
       "67940  0.1  1.0  0.0              43.0    52.0        82.7     42.0   \n",
       "\n",
       "       dribbles_completed  dribbles  \n",
       "67936                 0.0       2.0  \n",
       "67937                 0.0       0.0  \n",
       "67938                 NaN       NaN  \n",
       "67939                 0.0       0.0  \n",
       "67940                 2.0       5.0  \n",
       "\n",
       "[5 rows x 58 columns]"
      ]
     },
     "execution_count": 6,
     "metadata": {},
     "output_type": "execute_result"
    }
   ],
   "source": [
    "train_df[train_df['season']=='1920'].head()"
   ]
  },
  {
   "cell_type": "code",
   "execution_count": 7,
   "metadata": {},
   "outputs": [],
   "source": [
    "# add a bunch of lag features\n",
    "lag_train_df, team_lag_vars = team_lag_features(train_df, ['total_points'], ['all', 1, 2, 3, 4, 5, 10])\n",
    "lag_train_df, player_lag_vars = player_lag_features(lag_train_df, ['total_points'], ['all', 1, 2, 3, 4, 5, 10])"
   ]
  },
  {
   "cell_type": "code",
   "execution_count": 8,
   "metadata": {},
   "outputs": [],
   "source": [
    "# set validaton point/length and categorical/continuous variables\n",
    "valid_season = '1920'\n",
    "valid_gw = 20\n",
    "valid_len = 6\n",
    "cat_vars = ['gw', 'season', 'position', 'team', 'opponent_team', 'was_home']\n",
    "cont_vars = ['minutes', 'relative_market_value_team_season', 'relative_market_value_opponent_team_season']\n",
    "dep_var = ['total_points']"
   ]
  },
  {
   "cell_type": "code",
   "execution_count": 9,
   "metadata": {},
   "outputs": [],
   "source": [
    "# we want to set gw and season as ordered categorical variables\n",
    "# need lists with ordered categories\n",
    "ordered_gws = list(range(1,39))\n",
    "ordered_seasons = ['1617', '1718', '1819', '1920']"
   ]
  },
  {
   "cell_type": "code",
   "execution_count": 10,
   "metadata": {},
   "outputs": [],
   "source": [
    "# set as categories with correct order \n",
    "lag_train_df['gw'] = lag_train_df['gw'].astype('category')\n",
    "lag_train_df['season'] = lag_train_df['season'].astype('category')\n",
    "\n",
    "lag_train_df['gw'].cat.set_categories(ordered_gws, ordered=True, inplace=True)\n",
    "lag_train_df['season'].cat.set_categories(ordered_seasons, ordered=True, inplace=True)"
   ]
  },
  {
   "cell_type": "code",
   "execution_count": 11,
   "metadata": {},
   "outputs": [],
   "source": [
    "# dependent variable needs to be float\n",
    "lag_train_df['total_points'] = lag_train_df['total_points'].astype('float64')"
   ]
  },
  {
   "cell_type": "code",
   "execution_count": 12,
   "metadata": {},
   "outputs": [],
   "source": [
    "# create dataset with adjusted post-validation lag numbers\n",
    "train_valid_df, train_idx, valid_idx = create_lag_train(lag_train_df, \n",
    "                                                      cat_vars, cont_vars, \n",
    "                                                      player_lag_vars, team_lag_vars, dep_var,\n",
    "                                                      valid_season, valid_gw, valid_len)\n",
    "\n",
    "train_valid_df[player_lag_vars + team_lag_vars] = train_valid_df[player_lag_vars + team_lag_vars].fillna(0)"
   ]
  },
  {
   "cell_type": "code",
   "execution_count": 13,
   "metadata": {},
   "outputs": [
    {
     "name": "stdout",
     "output_type": "stream",
     "text": [
      "<class 'pandas.core.frame.DataFrame'>\n",
      "RangeIndex: 82054 entries, 0 to 82053\n",
      "Data columns (total 39 columns):\n",
      " #   Column                                      Non-Null Count  Dtype   \n",
      "---  ------                                      --------------  -----   \n",
      " 0   gw                                          82054 non-null  category\n",
      " 1   minutes                                     82054 non-null  int64   \n",
      " 2   minutes_last_1                              82054 non-null  float64 \n",
      " 3   minutes_last_10                             82054 non-null  float64 \n",
      " 4   minutes_last_2                              82054 non-null  float64 \n",
      " 5   minutes_last_3                              82054 non-null  float64 \n",
      " 6   minutes_last_4                              82054 non-null  float64 \n",
      " 7   minutes_last_5                              82054 non-null  float64 \n",
      " 8   minutes_last_all                            82054 non-null  int64   \n",
      " 9   opponent_team                               82054 non-null  object  \n",
      " 10  player                                      82054 non-null  object  \n",
      " 11  position                                    82054 non-null  int64   \n",
      " 12  relative_market_value_opponent_team_season  82054 non-null  float64 \n",
      " 13  relative_market_value_team_season           82054 non-null  float64 \n",
      " 14  season                                      82054 non-null  category\n",
      " 15  team                                        82054 non-null  object  \n",
      " 16  total_points                                82054 non-null  float64 \n",
      " 17  total_points_pg_last_1                      82054 non-null  float64 \n",
      " 18  total_points_pg_last_10                     82054 non-null  float64 \n",
      " 19  total_points_pg_last_2                      82054 non-null  float64 \n",
      " 20  total_points_pg_last_3                      82054 non-null  float64 \n",
      " 21  total_points_pg_last_4                      82054 non-null  float64 \n",
      " 22  total_points_pg_last_5                      82054 non-null  float64 \n",
      " 23  total_points_pg_last_all                    82054 non-null  float64 \n",
      " 24  total_points_team_pg_last_1                 82054 non-null  float64 \n",
      " 25  total_points_team_pg_last_10                82054 non-null  float64 \n",
      " 26  total_points_team_pg_last_10_opponent       82054 non-null  float64 \n",
      " 27  total_points_team_pg_last_1_opponent        82054 non-null  float64 \n",
      " 28  total_points_team_pg_last_2                 82054 non-null  float64 \n",
      " 29  total_points_team_pg_last_2_opponent        82054 non-null  float64 \n",
      " 30  total_points_team_pg_last_3                 82054 non-null  float64 \n",
      " 31  total_points_team_pg_last_3_opponent        82054 non-null  float64 \n",
      " 32  total_points_team_pg_last_4                 82054 non-null  float64 \n",
      " 33  total_points_team_pg_last_4_opponent        82054 non-null  float64 \n",
      " 34  total_points_team_pg_last_5                 82054 non-null  float64 \n",
      " 35  total_points_team_pg_last_5_opponent        82054 non-null  float64 \n",
      " 36  total_points_team_pg_last_all               82054 non-null  float64 \n",
      " 37  total_points_team_pg_last_all_opponent      82054 non-null  float64 \n",
      " 38  was_home                                    82054 non-null  bool    \n",
      "dtypes: bool(1), category(2), float64(30), int64(3), object(3)\n",
      "memory usage: 22.8+ MB\n"
     ]
    }
   ],
   "source": [
    "train_valid_df.info()"
   ]
  },
  {
   "cell_type": "code",
   "execution_count": 14,
   "metadata": {},
   "outputs": [],
   "source": [
    "# need to remove 0 minute rows from the validation set\n",
    "train_valid_df = pd.concat([train_valid_df.loc[train_idx],\n",
    "                            train_valid_df.loc[valid_idx][train_valid_df.loc[valid_idx]['minutes'] > 0]],\n",
    "                           ignore_index=True)"
   ]
  },
  {
   "cell_type": "code",
   "execution_count": 15,
   "metadata": {},
   "outputs": [],
   "source": [
    "# and redo the valid indexes\n",
    "valid_idx = range(valid_idx[0], train_valid_df.index.max() + 1)"
   ]
  },
  {
   "cell_type": "code",
   "execution_count": 16,
   "metadata": {},
   "outputs": [
    {
     "data": {
      "text/plain": [
       "range(78390, 80050)"
      ]
     },
     "execution_count": 16,
     "metadata": {},
     "output_type": "execute_result"
    }
   ],
   "source": [
    "# create train/valid splits\n",
    "splits = (list(train_idx), list(valid_idx))\n",
    "valid_idx"
   ]
  },
  {
   "cell_type": "code",
   "execution_count": 17,
   "metadata": {},
   "outputs": [
    {
     "data": {
      "text/plain": [
       "gw                 38\n",
       "season              4\n",
       "position            4\n",
       "team               29\n",
       "opponent_team      29\n",
       "was_home            2\n",
       "player           1251\n",
       "dtype: int64"
      ]
     },
     "execution_count": 17,
     "metadata": {},
     "output_type": "execute_result"
    }
   ],
   "source": [
    "train_valid_df[cat_vars + ['player']].nunique()"
   ]
  },
  {
   "cell_type": "code",
   "execution_count": 18,
   "metadata": {},
   "outputs": [
    {
     "data": {
      "text/plain": [
       "['gw', 'season', 'position', 'team', 'opponent_team', 'was_home', 'player']"
      ]
     },
     "execution_count": 18,
     "metadata": {},
     "output_type": "execute_result"
    }
   ],
   "source": [
    "cat_vars + ['player']"
   ]
  },
  {
   "cell_type": "code",
   "execution_count": 25,
   "metadata": {},
   "outputs": [],
   "source": [
    "# processors - categorify categorical variables and normalize continuous variables\n",
    "# fill missing not used because new teams are almost certainly well below the league average\n",
    "procs=[Categorify, Normalize]\n",
    "to_nn = TabularPandas(train_valid_df, procs, cat_vars + ['player'], cont_vars, #+ player_lag_vars + team_lag_vars,\n",
    "                      splits=splits, y_names=dep_var)"
   ]
  },
  {
   "cell_type": "code",
   "execution_count": 26,
   "metadata": {},
   "outputs": [],
   "source": [
    "# dls = to_nn.dataloaders()\n",
    "dls = to_nn.dataloaders()"
   ]
  },
  {
   "cell_type": "code",
   "execution_count": 27,
   "metadata": {},
   "outputs": [
    {
     "data": {
      "text/html": [
       "<table border=\"1\" class=\"dataframe\">\n",
       "  <thead>\n",
       "    <tr style=\"text-align: right;\">\n",
       "      <th></th>\n",
       "      <th>gw</th>\n",
       "      <th>season</th>\n",
       "      <th>position</th>\n",
       "      <th>team</th>\n",
       "      <th>opponent_team</th>\n",
       "      <th>was_home</th>\n",
       "      <th>player</th>\n",
       "      <th>minutes</th>\n",
       "      <th>relative_market_value_team_season</th>\n",
       "      <th>relative_market_value_opponent_team_season</th>\n",
       "      <th>total_points</th>\n",
       "    </tr>\n",
       "  </thead>\n",
       "  <tbody>\n",
       "    <tr>\n",
       "      <th>0</th>\n",
       "      <td>2</td>\n",
       "      <td>1617</td>\n",
       "      <td>1</td>\n",
       "      <td>Southampton</td>\n",
       "      <td>Manchester United</td>\n",
       "      <td>False</td>\n",
       "      <td>Fraser Forster</td>\n",
       "      <td>9.000000e+01</td>\n",
       "      <td>0.796805</td>\n",
       "      <td>1.983179</td>\n",
       "      <td>2.0</td>\n",
       "    </tr>\n",
       "    <tr>\n",
       "      <th>1</th>\n",
       "      <td>18</td>\n",
       "      <td>1617</td>\n",
       "      <td>3</td>\n",
       "      <td>Hull City</td>\n",
       "      <td>Manchester City</td>\n",
       "      <td>True</td>\n",
       "      <td>Markus Henriksen</td>\n",
       "      <td>1.700000e+01</td>\n",
       "      <td>0.494447</td>\n",
       "      <td>2.311012</td>\n",
       "      <td>1.0</td>\n",
       "    </tr>\n",
       "    <tr>\n",
       "      <th>2</th>\n",
       "      <td>10</td>\n",
       "      <td>1617</td>\n",
       "      <td>3</td>\n",
       "      <td>Bournemouth</td>\n",
       "      <td>Middlesbrough</td>\n",
       "      <td>False</td>\n",
       "      <td>Junior Stanislas</td>\n",
       "      <td>-9.094729e-07</td>\n",
       "      <td>0.384921</td>\n",
       "      <td>0.452793</td>\n",
       "      <td>0.0</td>\n",
       "    </tr>\n",
       "    <tr>\n",
       "      <th>3</th>\n",
       "      <td>19</td>\n",
       "      <td>1819</td>\n",
       "      <td>1</td>\n",
       "      <td>Southampton</td>\n",
       "      <td>West Ham United</td>\n",
       "      <td>True</td>\n",
       "      <td>Fraser Forster</td>\n",
       "      <td>-9.094729e-07</td>\n",
       "      <td>0.654624</td>\n",
       "      <td>0.749352</td>\n",
       "      <td>0.0</td>\n",
       "    </tr>\n",
       "    <tr>\n",
       "      <th>4</th>\n",
       "      <td>19</td>\n",
       "      <td>1819</td>\n",
       "      <td>2</td>\n",
       "      <td>Burnley</td>\n",
       "      <td>Everton</td>\n",
       "      <td>True</td>\n",
       "      <td>Kevin Long</td>\n",
       "      <td>-9.094729e-07</td>\n",
       "      <td>0.449442</td>\n",
       "      <td>1.039221</td>\n",
       "      <td>0.0</td>\n",
       "    </tr>\n",
       "    <tr>\n",
       "      <th>5</th>\n",
       "      <td>4</td>\n",
       "      <td>1819</td>\n",
       "      <td>2</td>\n",
       "      <td>Manchester United</td>\n",
       "      <td>Burnley</td>\n",
       "      <td>False</td>\n",
       "      <td>Antonio Valencia</td>\n",
       "      <td>9.000000e+01</td>\n",
       "      <td>2.015532</td>\n",
       "      <td>0.449442</td>\n",
       "      <td>7.0</td>\n",
       "    </tr>\n",
       "    <tr>\n",
       "      <th>6</th>\n",
       "      <td>19</td>\n",
       "      <td>1920</td>\n",
       "      <td>2</td>\n",
       "      <td>Wolverhampton Wanderers</td>\n",
       "      <td>Manchester City</td>\n",
       "      <td>True</td>\n",
       "      <td>Ryan Bennett</td>\n",
       "      <td>9.999991e-01</td>\n",
       "      <td>0.673382</td>\n",
       "      <td>2.727025</td>\n",
       "      <td>1.0</td>\n",
       "    </tr>\n",
       "    <tr>\n",
       "      <th>7</th>\n",
       "      <td>8</td>\n",
       "      <td>1920</td>\n",
       "      <td>3</td>\n",
       "      <td>Bournemouth</td>\n",
       "      <td>Arsenal</td>\n",
       "      <td>False</td>\n",
       "      <td>Andrew Surman</td>\n",
       "      <td>-9.094729e-07</td>\n",
       "      <td>0.687124</td>\n",
       "      <td>1.448866</td>\n",
       "      <td>0.0</td>\n",
       "    </tr>\n",
       "    <tr>\n",
       "      <th>8</th>\n",
       "      <td>21</td>\n",
       "      <td>1718</td>\n",
       "      <td>4</td>\n",
       "      <td>Newcastle United</td>\n",
       "      <td>Brighton and Hove Albion</td>\n",
       "      <td>True</td>\n",
       "      <td>Jose Luis Mato Sanmartín</td>\n",
       "      <td>8.300000e+01</td>\n",
       "      <td>0.547176</td>\n",
       "      <td>0.349181</td>\n",
       "      <td>2.0</td>\n",
       "    </tr>\n",
       "    <tr>\n",
       "      <th>9</th>\n",
       "      <td>24</td>\n",
       "      <td>1819</td>\n",
       "      <td>4</td>\n",
       "      <td>Chelsea</td>\n",
       "      <td>Bournemouth</td>\n",
       "      <td>False</td>\n",
       "      <td>Gonzalo Higuaín</td>\n",
       "      <td>6.400000e+01</td>\n",
       "      <td>2.540586</td>\n",
       "      <td>0.418108</td>\n",
       "      <td>2.0</td>\n",
       "    </tr>\n",
       "  </tbody>\n",
       "</table>"
      ],
      "text/plain": [
       "<IPython.core.display.HTML object>"
      ]
     },
     "metadata": {},
     "output_type": "display_data"
    }
   ],
   "source": [
    "dls.show_batch()"
   ]
  },
  {
   "cell_type": "code",
   "execution_count": 28,
   "metadata": {},
   "outputs": [],
   "source": [
    "# set range of predictions - minimum to current max\n",
    "max_y = np.max(lag_train_df['total_points'])\n",
    "min_y = np.min(lag_train_df['total_points'])\n",
    "y_range = (-1, max_y)"
   ]
  },
  {
   "cell_type": "code",
   "execution_count": 37,
   "metadata": {},
   "outputs": [],
   "source": [
    "# learn = tabular_learner(dls, y_range=y_range, layers=[1000,500], ps=[0.001,0.01], emb_drop=0.04,\n",
    "#                         n_out=1, loss_func=F.mse_loss, metrics=rmse)\n",
    "\n",
    "learn = tabular_learner(dls, y_range=y_range, layers=[500,250], loss_func=F.mse_loss, metrics=rmse)"
   ]
  },
  {
   "cell_type": "code",
   "execution_count": 38,
   "metadata": {},
   "outputs": [
    {
     "data": {
      "text/html": [],
      "text/plain": [
       "<IPython.core.display.HTML object>"
      ]
     },
     "metadata": {},
     "output_type": "display_data"
    },
    {
     "data": {
      "text/plain": [
       "SuggestedLRs(lr_min=0.33113112449646, lr_steep=0.002511886414140463)"
      ]
     },
     "execution_count": 38,
     "metadata": {},
     "output_type": "execute_result"
    },
    {
     "data": {
      "image/png": "[encoded data removed]",
      "text/plain": [
       "<Figure size 432x288 with 1 Axes>"
      ]
     },
     "metadata": {
      "needs_background": "light"
     },
     "output_type": "display_data"
    }
   ],
   "source": [
    "learn.lr_find()"
   ]
  },
  {
   "cell_type": "code",
   "execution_count": 39,
   "metadata": {},
   "outputs": [
    {
     "data": {
      "text/html": [
       "<table border=\"1\" class=\"dataframe\">\n",
       "  <thead>\n",
       "    <tr style=\"text-align: left;\">\n",
       "      <th>epoch</th>\n",
       "      <th>train_loss</th>\n",
       "      <th>valid_loss</th>\n",
       "      <th>_rmse</th>\n",
       "      <th>time</th>\n",
       "    </tr>\n",
       "  </thead>\n",
       "  <tbody>\n",
       "    <tr>\n",
       "      <td>0</td>\n",
       "      <td>4.121578</td>\n",
       "      <td>7.811302</td>\n",
       "      <td>2.794870</td>\n",
       "      <td>00:15</td>\n",
       "    </tr>\n",
       "    <tr>\n",
       "      <td>1</td>\n",
       "      <td>3.305217</td>\n",
       "      <td>7.234231</td>\n",
       "      <td>2.689653</td>\n",
       "      <td>00:16</td>\n",
       "    </tr>\n",
       "  </tbody>\n",
       "</table>"
      ],
      "text/plain": [
       "<IPython.core.display.HTML object>"
      ]
     },
     "metadata": {},
     "output_type": "display_data"
    }
   ],
   "source": [
    "# [500, 250]\n",
    "learn.fit_one_cycle(2, 5e-3, wd=0.2)"
   ]
  },
  {
   "cell_type": "code",
   "execution_count": 40,
   "metadata": {},
   "outputs": [
    {
     "data": {
      "text/html": [],
      "text/plain": [
       "<IPython.core.display.HTML object>"
      ]
     },
     "metadata": {},
     "output_type": "display_data"
    },
    {
     "data": {
      "text/plain": [
       "2.689653"
      ]
     },
     "execution_count": 40,
     "metadata": {},
     "output_type": "execute_result"
    }
   ],
   "source": [
    "# check that rmse matches the training output above\n",
    "preds,targs = learn.get_preds()\n",
    "r_mse(preds,targs)"
   ]
  },
  {
   "cell_type": "code",
   "execution_count": null,
   "metadata": {},
   "outputs": [],
   "source": []
  }
 ],
 "metadata": {
  "kernelspec": {
   "display_name": "Python 3",
   "language": "python",
   "name": "python3"
  },
  "language_info": {
   "codemirror_mode": {
    "name": "ipython",
    "version": 3
   },
   "file_extension": ".py",
   "mimetype": "text/x-python",
   "name": "python",
   "nbconvert_exporter": "python",
   "pygments_lexer": "ipython3",
   "version": "3.9.2"
  }
 },
 "nbformat": 4,
 "nbformat_minor": 4
}
