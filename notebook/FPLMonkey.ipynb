{
 "cells": [
  {
   "cell_type": "markdown",
   "metadata": {},
   "source": [
    "# FPLMonkey Notebook"
   ]
  },
  {
   "cell_type": "code",
   "execution_count": 1,
   "metadata": {},
   "outputs": [
    {
     "name": "stdout",
     "output_type": "stream",
     "text": [
      "Requirement already satisfied: lxml in /opt/conda/envs/fastai/lib/python3.8/site-packages (4.6.3)\n",
      "Requirement already satisfied: bs4 in /opt/conda/envs/fastai/lib/python3.8/site-packages (0.0.1)\n",
      "Requirement already satisfied: beautifulsoup4 in /opt/conda/envs/fastai/lib/python3.8/site-packages (from bs4) (4.9.3)\n",
      "Requirement already satisfied: soupsieve>1.2; python_version >= \"3.0\" in /opt/conda/envs/fastai/lib/python3.8/site-packages (from beautifulsoup4->bs4) (2.2.1)\n",
      "Requirement already satisfied: backoff in /opt/conda/envs/fastai/lib/python3.8/site-packages (1.10.0)\n"
     ]
    }
   ],
   "source": [
    "!pip install lxml\n",
    "!pip install bs4\n",
    "!pip install backoff"
   ]
  },
  {
   "cell_type": "code",
   "execution_count": 2,
   "metadata": {},
   "outputs": [],
   "source": [
    "import numpy as np # linear algebra\n",
    "import pandas as pd # data processing, CSV file I/O (e.g. pd.read_csv)\n",
    "from helpers import *\n",
    "from pathlib import Path\n",
    "from fastai.tabular.all import *\n",
    "from matplotlib import style"
   ]
  },
  {
   "cell_type": "markdown",
   "metadata": {},
   "source": [
    "# Getting data"
   ]
  },
  {
   "cell_type": "code",
   "execution_count": 3,
   "metadata": {},
   "outputs": [],
   "source": [
    "path = Path('./')"
   ]
  },
  {
   "cell_type": "code",
   "execution_count": 4,
   "metadata": {},
   "outputs": [],
   "source": [
    "train_df = pd.read_csv(path/'data/train_v7.csv', index_col=0, dtype={'season':str, \n",
    "                                                                     'squad':str,\n",
    "                                                                     'comp':str})"
   ]
  },
  {
   "cell_type": "code",
   "execution_count": 5,
   "metadata": {},
   "outputs": [
    {
     "data": {
      "text/html": [
       "<div>\n",
       "<style scoped>\n",
       "    .dataframe tbody tr th:only-of-type {\n",
       "        vertical-align: middle;\n",
       "    }\n",
       "\n",
       "    .dataframe tbody tr th {\n",
       "        vertical-align: top;\n",
       "    }\n",
       "\n",
       "    .dataframe thead th {\n",
       "        text-align: right;\n",
       "    }\n",
       "</style>\n",
       "<table border=\"1\" class=\"dataframe\">\n",
       "  <thead>\n",
       "    <tr style=\"text-align: right;\">\n",
       "      <th></th>\n",
       "      <th>player</th>\n",
       "      <th>gw</th>\n",
       "      <th>position</th>\n",
       "      <th>minutes</th>\n",
       "      <th>team</th>\n",
       "      <th>opponent_team</th>\n",
       "      <th>relative_market_value_team</th>\n",
       "      <th>relative_market_value_opponent_team</th>\n",
       "      <th>was_home</th>\n",
       "      <th>total_points</th>\n",
       "      <th>...</th>\n",
       "      <th>npxg</th>\n",
       "      <th>xa</th>\n",
       "      <th>sca</th>\n",
       "      <th>gca</th>\n",
       "      <th>passes_completed</th>\n",
       "      <th>passes</th>\n",
       "      <th>passes_pct</th>\n",
       "      <th>carries</th>\n",
       "      <th>dribbles_completed</th>\n",
       "      <th>dribbles</th>\n",
       "    </tr>\n",
       "  </thead>\n",
       "  <tbody>\n",
       "    <tr>\n",
       "      <th>0</th>\n",
       "      <td>Aaron Cresswell</td>\n",
       "      <td>1</td>\n",
       "      <td>2</td>\n",
       "      <td>0</td>\n",
       "      <td>West Ham United</td>\n",
       "      <td>Chelsea</td>\n",
       "      <td>NaN</td>\n",
       "      <td>NaN</td>\n",
       "      <td>False</td>\n",
       "      <td>0</td>\n",
       "      <td>...</td>\n",
       "      <td>NaN</td>\n",
       "      <td>NaN</td>\n",
       "      <td>NaN</td>\n",
       "      <td>NaN</td>\n",
       "      <td>NaN</td>\n",
       "      <td>NaN</td>\n",
       "      <td>NaN</td>\n",
       "      <td>NaN</td>\n",
       "      <td>NaN</td>\n",
       "      <td>NaN</td>\n",
       "    </tr>\n",
       "    <tr>\n",
       "      <th>1</th>\n",
       "      <td>Aaron Lennon</td>\n",
       "      <td>1</td>\n",
       "      <td>3</td>\n",
       "      <td>15</td>\n",
       "      <td>Everton</td>\n",
       "      <td>Tottenham Hotspur</td>\n",
       "      <td>NaN</td>\n",
       "      <td>NaN</td>\n",
       "      <td>True</td>\n",
       "      <td>1</td>\n",
       "      <td>...</td>\n",
       "      <td>NaN</td>\n",
       "      <td>NaN</td>\n",
       "      <td>NaN</td>\n",
       "      <td>NaN</td>\n",
       "      <td>NaN</td>\n",
       "      <td>NaN</td>\n",
       "      <td>NaN</td>\n",
       "      <td>NaN</td>\n",
       "      <td>NaN</td>\n",
       "      <td>NaN</td>\n",
       "    </tr>\n",
       "    <tr>\n",
       "      <th>2</th>\n",
       "      <td>Aaron Ramsey</td>\n",
       "      <td>1</td>\n",
       "      <td>3</td>\n",
       "      <td>60</td>\n",
       "      <td>Arsenal</td>\n",
       "      <td>Liverpool</td>\n",
       "      <td>NaN</td>\n",
       "      <td>NaN</td>\n",
       "      <td>True</td>\n",
       "      <td>2</td>\n",
       "      <td>...</td>\n",
       "      <td>NaN</td>\n",
       "      <td>NaN</td>\n",
       "      <td>NaN</td>\n",
       "      <td>NaN</td>\n",
       "      <td>NaN</td>\n",
       "      <td>NaN</td>\n",
       "      <td>NaN</td>\n",
       "      <td>NaN</td>\n",
       "      <td>NaN</td>\n",
       "      <td>NaN</td>\n",
       "    </tr>\n",
       "    <tr>\n",
       "      <th>3</th>\n",
       "      <td>Abdoulaye Doucouré</td>\n",
       "      <td>1</td>\n",
       "      <td>3</td>\n",
       "      <td>0</td>\n",
       "      <td>Watford</td>\n",
       "      <td>Southampton</td>\n",
       "      <td>NaN</td>\n",
       "      <td>NaN</td>\n",
       "      <td>False</td>\n",
       "      <td>0</td>\n",
       "      <td>...</td>\n",
       "      <td>NaN</td>\n",
       "      <td>NaN</td>\n",
       "      <td>NaN</td>\n",
       "      <td>NaN</td>\n",
       "      <td>NaN</td>\n",
       "      <td>NaN</td>\n",
       "      <td>NaN</td>\n",
       "      <td>NaN</td>\n",
       "      <td>NaN</td>\n",
       "      <td>NaN</td>\n",
       "    </tr>\n",
       "    <tr>\n",
       "      <th>4</th>\n",
       "      <td>Abdul Rahman Baba</td>\n",
       "      <td>1</td>\n",
       "      <td>2</td>\n",
       "      <td>0</td>\n",
       "      <td>Chelsea</td>\n",
       "      <td>West Ham United</td>\n",
       "      <td>NaN</td>\n",
       "      <td>NaN</td>\n",
       "      <td>True</td>\n",
       "      <td>0</td>\n",
       "      <td>...</td>\n",
       "      <td>NaN</td>\n",
       "      <td>NaN</td>\n",
       "      <td>NaN</td>\n",
       "      <td>NaN</td>\n",
       "      <td>NaN</td>\n",
       "      <td>NaN</td>\n",
       "      <td>NaN</td>\n",
       "      <td>NaN</td>\n",
       "      <td>NaN</td>\n",
       "      <td>NaN</td>\n",
       "    </tr>\n",
       "  </tbody>\n",
       "</table>\n",
       "<p>5 rows × 58 columns</p>\n",
       "</div>"
      ],
      "text/plain": [
       "               player  gw  position  minutes             team  \\\n",
       "0     Aaron Cresswell   1         2        0  West Ham United   \n",
       "1        Aaron Lennon   1         3       15          Everton   \n",
       "2        Aaron Ramsey   1         3       60          Arsenal   \n",
       "3  Abdoulaye Doucouré   1         3        0          Watford   \n",
       "4   Abdul Rahman Baba   1         2        0          Chelsea   \n",
       "\n",
       "       opponent_team  relative_market_value_team  \\\n",
       "0            Chelsea                         NaN   \n",
       "1  Tottenham Hotspur                         NaN   \n",
       "2          Liverpool                         NaN   \n",
       "3        Southampton                         NaN   \n",
       "4    West Ham United                         NaN   \n",
       "\n",
       "   relative_market_value_opponent_team  was_home  total_points  ...  npxg  xa  \\\n",
       "0                                  NaN     False             0  ...   NaN NaN   \n",
       "1                                  NaN      True             1  ...   NaN NaN   \n",
       "2                                  NaN      True             2  ...   NaN NaN   \n",
       "3                                  NaN     False             0  ...   NaN NaN   \n",
       "4                                  NaN      True             0  ...   NaN NaN   \n",
       "\n",
       "   sca  gca  passes_completed  passes  passes_pct  carries  \\\n",
       "0  NaN  NaN               NaN     NaN         NaN      NaN   \n",
       "1  NaN  NaN               NaN     NaN         NaN      NaN   \n",
       "2  NaN  NaN               NaN     NaN         NaN      NaN   \n",
       "3  NaN  NaN               NaN     NaN         NaN      NaN   \n",
       "4  NaN  NaN               NaN     NaN         NaN      NaN   \n",
       "\n",
       "   dribbles_completed  dribbles  \n",
       "0                 NaN       NaN  \n",
       "1                 NaN       NaN  \n",
       "2                 NaN       NaN  \n",
       "3                 NaN       NaN  \n",
       "4                 NaN       NaN  \n",
       "\n",
       "[5 rows x 58 columns]"
      ]
     },
     "execution_count": 5,
     "metadata": {},
     "output_type": "execute_result"
    }
   ],
   "source": [
    "train_df.head()"
   ]
  },
  {
   "cell_type": "code",
   "execution_count": 6,
   "metadata": {},
   "outputs": [
    {
     "name": "stdout",
     "output_type": "stream",
     "text": [
      "<class 'pandas.core.frame.DataFrame'>\n",
      "Int64Index: 109893 entries, 0 to 109896\n",
      "Data columns (total 58 columns):\n",
      " #   Column                                      Non-Null Count   Dtype  \n",
      "---  ------                                      --------------   -----  \n",
      " 0   player                                      109893 non-null  object \n",
      " 1   gw                                          109893 non-null  int64  \n",
      " 2   position                                    109893 non-null  int64  \n",
      " 3   minutes                                     109893 non-null  int64  \n",
      " 4   team                                        109893 non-null  object \n",
      " 5   opponent_team                               109893 non-null  object \n",
      " 6   relative_market_value_team                  41830 non-null   float64\n",
      " 7   relative_market_value_opponent_team         41807 non-null   float64\n",
      " 8   was_home                                    109893 non-null  bool   \n",
      " 9   total_points                                109893 non-null  int64  \n",
      " 10  assists                                     109893 non-null  int64  \n",
      " 11  bonus                                       109893 non-null  int64  \n",
      " 12  bps                                         109893 non-null  int64  \n",
      " 13  clean_sheets                                109893 non-null  int64  \n",
      " 14  creativity                                  109893 non-null  float64\n",
      " 15  goals_conceded                              109893 non-null  int64  \n",
      " 16  goals_scored                                109893 non-null  int64  \n",
      " 17  ict_index                                   109893 non-null  float64\n",
      " 18  influence                                   109893 non-null  float64\n",
      " 19  own_goals                                   109893 non-null  int64  \n",
      " 20  penalties_missed                            109893 non-null  int64  \n",
      " 21  penalties_saved                             109893 non-null  int64  \n",
      " 22  red_cards                                   109893 non-null  int64  \n",
      " 23  saves                                       109893 non-null  int64  \n",
      " 24  selected                                    109893 non-null  int64  \n",
      " 25  team_a_score                                109893 non-null  int64  \n",
      " 26  team_h_score                                109893 non-null  int64  \n",
      " 27  threat                                      109893 non-null  float64\n",
      " 28  transfers_balance                           109893 non-null  int64  \n",
      " 29  transfers_in                                109893 non-null  int64  \n",
      " 30  transfers_out                               109893 non-null  int64  \n",
      " 31  yellow_cards                                109893 non-null  int64  \n",
      " 32  kickoff_time                                109893 non-null  object \n",
      " 33  season                                      109893 non-null  object \n",
      " 34  play_proba                                  41072 non-null   float64\n",
      " 35  relative_market_value_team_season           90862 non-null   float64\n",
      " 36  relative_market_value_opponent_team_season  90862 non-null   float64\n",
      " 37  date                                        109893 non-null  object \n",
      " 38  squad                                       40012 non-null   object \n",
      " 39  comp                                        40012 non-null   object \n",
      " 40  shots_total                                 40012 non-null   float64\n",
      " 41  shots_on_target                             40012 non-null   float64\n",
      " 42  touches                                     40009 non-null   float64\n",
      " 43  pressures                                   40009 non-null   float64\n",
      " 44  tackles                                     40009 non-null   float64\n",
      " 45  interceptions                               40012 non-null   float64\n",
      " 46  blocks                                      40009 non-null   float64\n",
      " 47  xg                                          40009 non-null   float64\n",
      " 48  npxg                                        40009 non-null   float64\n",
      " 49  xa                                          40009 non-null   float64\n",
      " 50  sca                                         40009 non-null   float64\n",
      " 51  gca                                         40009 non-null   float64\n",
      " 52  passes_completed                            40009 non-null   float64\n",
      " 53  passes                                      40009 non-null   float64\n",
      " 54  passes_pct                                  39612 non-null   float64\n",
      " 55  carries                                     40009 non-null   float64\n",
      " 56  dribbles_completed                          40009 non-null   float64\n",
      " 57  dribbles                                    40009 non-null   float64\n",
      "dtypes: bool(1), float64(27), int64(22), object(8)\n",
      "memory usage: 48.7+ MB\n"
     ]
    }
   ],
   "source": [
    "train_df.info()\n"
   ]
  },
  {
   "cell_type": "code",
   "execution_count": 7,
   "metadata": {
    "scrolled": true
   },
   "outputs": [
    {
     "data": {
      "text/html": [
       "<div>\n",
       "<style scoped>\n",
       "    .dataframe tbody tr th:only-of-type {\n",
       "        vertical-align: middle;\n",
       "    }\n",
       "\n",
       "    .dataframe tbody tr th {\n",
       "        vertical-align: top;\n",
       "    }\n",
       "\n",
       "    .dataframe thead th {\n",
       "        text-align: right;\n",
       "    }\n",
       "</style>\n",
       "<table border=\"1\" class=\"dataframe\">\n",
       "  <thead>\n",
       "    <tr style=\"text-align: right;\">\n",
       "      <th></th>\n",
       "      <th>player</th>\n",
       "      <th>gw</th>\n",
       "      <th>position</th>\n",
       "      <th>minutes</th>\n",
       "      <th>team</th>\n",
       "      <th>opponent_team</th>\n",
       "      <th>relative_market_value_team</th>\n",
       "      <th>relative_market_value_opponent_team</th>\n",
       "      <th>was_home</th>\n",
       "      <th>total_points</th>\n",
       "      <th>...</th>\n",
       "      <th>npxg</th>\n",
       "      <th>xa</th>\n",
       "      <th>sca</th>\n",
       "      <th>gca</th>\n",
       "      <th>passes_completed</th>\n",
       "      <th>passes</th>\n",
       "      <th>passes_pct</th>\n",
       "      <th>carries</th>\n",
       "      <th>dribbles_completed</th>\n",
       "      <th>dribbles</th>\n",
       "    </tr>\n",
       "  </thead>\n",
       "  <tbody>\n",
       "    <tr>\n",
       "      <th>18519</th>\n",
       "      <td>Aaron Cresswell</td>\n",
       "      <td>32</td>\n",
       "      <td>2</td>\n",
       "      <td>0</td>\n",
       "      <td>West Ham United</td>\n",
       "      <td>Swansea City</td>\n",
       "      <td>NaN</td>\n",
       "      <td>NaN</td>\n",
       "      <td>True</td>\n",
       "      <td>0</td>\n",
       "      <td>...</td>\n",
       "      <td>NaN</td>\n",
       "      <td>NaN</td>\n",
       "      <td>NaN</td>\n",
       "      <td>NaN</td>\n",
       "      <td>NaN</td>\n",
       "      <td>NaN</td>\n",
       "      <td>NaN</td>\n",
       "      <td>NaN</td>\n",
       "      <td>NaN</td>\n",
       "      <td>NaN</td>\n",
       "    </tr>\n",
       "    <tr>\n",
       "      <th>18520</th>\n",
       "      <td>Aaron Lennon</td>\n",
       "      <td>32</td>\n",
       "      <td>3</td>\n",
       "      <td>0</td>\n",
       "      <td>Everton</td>\n",
       "      <td>Leicester City</td>\n",
       "      <td>NaN</td>\n",
       "      <td>NaN</td>\n",
       "      <td>True</td>\n",
       "      <td>0</td>\n",
       "      <td>...</td>\n",
       "      <td>NaN</td>\n",
       "      <td>NaN</td>\n",
       "      <td>NaN</td>\n",
       "      <td>NaN</td>\n",
       "      <td>NaN</td>\n",
       "      <td>NaN</td>\n",
       "      <td>NaN</td>\n",
       "      <td>NaN</td>\n",
       "      <td>NaN</td>\n",
       "      <td>NaN</td>\n",
       "    </tr>\n",
       "    <tr>\n",
       "      <th>18521</th>\n",
       "      <td>Aaron Ramsey</td>\n",
       "      <td>32</td>\n",
       "      <td>3</td>\n",
       "      <td>32</td>\n",
       "      <td>Arsenal</td>\n",
       "      <td>Crystal Palace</td>\n",
       "      <td>NaN</td>\n",
       "      <td>NaN</td>\n",
       "      <td>False</td>\n",
       "      <td>1</td>\n",
       "      <td>...</td>\n",
       "      <td>NaN</td>\n",
       "      <td>NaN</td>\n",
       "      <td>NaN</td>\n",
       "      <td>NaN</td>\n",
       "      <td>NaN</td>\n",
       "      <td>NaN</td>\n",
       "      <td>NaN</td>\n",
       "      <td>NaN</td>\n",
       "      <td>NaN</td>\n",
       "      <td>NaN</td>\n",
       "    </tr>\n",
       "    <tr>\n",
       "      <th>18522</th>\n",
       "      <td>Aaron Wan-Bissaka</td>\n",
       "      <td>32</td>\n",
       "      <td>3</td>\n",
       "      <td>0</td>\n",
       "      <td>Crystal Palace</td>\n",
       "      <td>Arsenal</td>\n",
       "      <td>NaN</td>\n",
       "      <td>NaN</td>\n",
       "      <td>True</td>\n",
       "      <td>0</td>\n",
       "      <td>...</td>\n",
       "      <td>NaN</td>\n",
       "      <td>NaN</td>\n",
       "      <td>NaN</td>\n",
       "      <td>NaN</td>\n",
       "      <td>NaN</td>\n",
       "      <td>NaN</td>\n",
       "      <td>NaN</td>\n",
       "      <td>NaN</td>\n",
       "      <td>NaN</td>\n",
       "      <td>NaN</td>\n",
       "    </tr>\n",
       "    <tr>\n",
       "      <th>18523</th>\n",
       "      <td>Abdoulaye Doucouré</td>\n",
       "      <td>32</td>\n",
       "      <td>3</td>\n",
       "      <td>58</td>\n",
       "      <td>Watford</td>\n",
       "      <td>Tottenham Hotspur</td>\n",
       "      <td>NaN</td>\n",
       "      <td>NaN</td>\n",
       "      <td>False</td>\n",
       "      <td>0</td>\n",
       "      <td>...</td>\n",
       "      <td>NaN</td>\n",
       "      <td>NaN</td>\n",
       "      <td>NaN</td>\n",
       "      <td>NaN</td>\n",
       "      <td>NaN</td>\n",
       "      <td>NaN</td>\n",
       "      <td>NaN</td>\n",
       "      <td>NaN</td>\n",
       "      <td>NaN</td>\n",
       "      <td>NaN</td>\n",
       "    </tr>\n",
       "  </tbody>\n",
       "</table>\n",
       "<p>5 rows × 58 columns</p>\n",
       "</div>"
      ],
      "text/plain": [
       "                   player  gw  position  minutes             team  \\\n",
       "18519     Aaron Cresswell  32         2        0  West Ham United   \n",
       "18520        Aaron Lennon  32         3        0          Everton   \n",
       "18521        Aaron Ramsey  32         3       32          Arsenal   \n",
       "18522   Aaron Wan-Bissaka  32         3        0   Crystal Palace   \n",
       "18523  Abdoulaye Doucouré  32         3       58          Watford   \n",
       "\n",
       "           opponent_team  relative_market_value_team  \\\n",
       "18519       Swansea City                         NaN   \n",
       "18520     Leicester City                         NaN   \n",
       "18521     Crystal Palace                         NaN   \n",
       "18522            Arsenal                         NaN   \n",
       "18523  Tottenham Hotspur                         NaN   \n",
       "\n",
       "       relative_market_value_opponent_team  was_home  total_points  ...  npxg  \\\n",
       "18519                                  NaN      True             0  ...   NaN   \n",
       "18520                                  NaN      True             0  ...   NaN   \n",
       "18521                                  NaN     False             1  ...   NaN   \n",
       "18522                                  NaN      True             0  ...   NaN   \n",
       "18523                                  NaN     False             0  ...   NaN   \n",
       "\n",
       "       xa  sca  gca  passes_completed  passes  passes_pct  carries  \\\n",
       "18519 NaN  NaN  NaN               NaN     NaN         NaN      NaN   \n",
       "18520 NaN  NaN  NaN               NaN     NaN         NaN      NaN   \n",
       "18521 NaN  NaN  NaN               NaN     NaN         NaN      NaN   \n",
       "18522 NaN  NaN  NaN               NaN     NaN         NaN      NaN   \n",
       "18523 NaN  NaN  NaN               NaN     NaN         NaN      NaN   \n",
       "\n",
       "       dribbles_completed  dribbles  \n",
       "18519                 NaN       NaN  \n",
       "18520                 NaN       NaN  \n",
       "18521                 NaN       NaN  \n",
       "18522                 NaN       NaN  \n",
       "18523                 NaN       NaN  \n",
       "\n",
       "[5 rows x 58 columns]"
      ]
     },
     "execution_count": 7,
     "metadata": {},
     "output_type": "execute_result"
    }
   ],
   "source": [
    "train_df[train_df['season']=='2021']\n",
    "train_df[train_df['gw']==32].head()"
   ]
  },
  {
   "cell_type": "markdown",
   "metadata": {},
   "source": [
    "# Adding features to dataframe"
   ]
  },
  {
   "cell_type": "code",
   "execution_count": 8,
   "metadata": {},
   "outputs": [],
   "source": [
    "# add a bunch of lag features\n",
    "lag_train_df, team_lag_vars = team_lag_features(train_df, ['total_points'], ['all', 1, 2, 3, 4, 5, 10])\n",
    "lag_train_df, player_lag_vars = player_lag_features(lag_train_df, ['total_points'], ['all', 1, 2, 3, 4, 5, 10])"
   ]
  },
  {
   "cell_type": "code",
   "execution_count": 67,
   "metadata": {},
   "outputs": [],
   "source": [
    "# set validaton point/length and categorical/continuous variables\n",
    "valid_season = \"2021\"\n",
    "valid_gw = 25\n",
    "valid_len = 1\n",
    "cat_vars = ['gw', 'season', 'position', 'team', 'opponent_team', 'was_home']\n",
    "cont_vars = ['minutes', 'relative_market_value_team_season', 'relative_market_value_opponent_team_season']\n",
    "dep_var = ['total_points']"
   ]
  },
  {
   "cell_type": "code",
   "execution_count": 68,
   "metadata": {},
   "outputs": [],
   "source": [
    "# we want to set gw and season as ordered categorical variables\n",
    "# need lists with ordered categories\n",
    "ordered_gws = list(range(1,39))\n",
    "ordered_seasons = ['1617', '1718', '1819', '1920', '2021']"
   ]
  },
  {
   "cell_type": "code",
   "execution_count": 69,
   "metadata": {},
   "outputs": [],
   "source": [
    "# set as categories with correct order \n",
    "lag_train_df['gw'] = lag_train_df['gw'].astype('category')\n",
    "lag_train_df['season'] = lag_train_df['season'].astype('category')\n",
    "\n",
    "lag_train_df['gw'].cat.set_categories(ordered_gws, ordered=True, inplace=True)\n",
    "lag_train_df['season'].cat.set_categories(ordered_seasons, ordered=True, inplace=True)"
   ]
  },
  {
   "cell_type": "code",
   "execution_count": 70,
   "metadata": {},
   "outputs": [],
   "source": [
    "# dependent variable needs to be float\n",
    "lag_train_df['total_points'] = lag_train_df['total_points'].astype('float64')"
   ]
  },
  {
   "cell_type": "code",
   "execution_count": 71,
   "metadata": {},
   "outputs": [],
   "source": [
    "train_valid_df, train_idx, valid_idx = create_lag_train(lag_train_df, \n",
    "                                                      cat_vars, cont_vars, \n",
    "                                                      player_lag_vars, team_lag_vars, dep_var,\n",
    "                                                      valid_season, valid_gw, valid_len)\n",
    "\n",
    "train_valid_df[player_lag_vars + team_lag_vars] = train_valid_df[player_lag_vars + team_lag_vars].fillna(0)"
   ]
  },
  {
   "cell_type": "code",
   "execution_count": 72,
   "metadata": {},
   "outputs": [
    {
     "name": "stdout",
     "output_type": "stream",
     "text": [
      "<class 'pandas.core.frame.DataFrame'>\n",
      "RangeIndex: 105642 entries, 0 to 105641\n",
      "Data columns (total 39 columns):\n",
      " #   Column                                      Non-Null Count   Dtype   \n",
      "---  ------                                      --------------   -----   \n",
      " 0   gw                                          105642 non-null  category\n",
      " 1   minutes                                     105642 non-null  int64   \n",
      " 2   minutes_last_1                              105642 non-null  float64 \n",
      " 3   minutes_last_10                             105642 non-null  float64 \n",
      " 4   minutes_last_2                              105642 non-null  float64 \n",
      " 5   minutes_last_3                              105642 non-null  float64 \n",
      " 6   minutes_last_4                              105642 non-null  float64 \n",
      " 7   minutes_last_5                              105642 non-null  float64 \n",
      " 8   minutes_last_all                            105642 non-null  int64   \n",
      " 9   opponent_team                               105642 non-null  object  \n",
      " 10  player                                      105642 non-null  object  \n",
      " 11  position                                    105642 non-null  int64   \n",
      " 12  relative_market_value_opponent_team_season  90862 non-null   float64 \n",
      " 13  relative_market_value_team_season           90862 non-null   float64 \n",
      " 14  season                                      105642 non-null  category\n",
      " 15  team                                        105642 non-null  object  \n",
      " 16  total_points                                105642 non-null  float64 \n",
      " 17  total_points_pg_last_1                      105642 non-null  float64 \n",
      " 18  total_points_pg_last_10                     105642 non-null  float64 \n",
      " 19  total_points_pg_last_2                      105642 non-null  float64 \n",
      " 20  total_points_pg_last_3                      105642 non-null  float64 \n",
      " 21  total_points_pg_last_4                      105642 non-null  float64 \n",
      " 22  total_points_pg_last_5                      105642 non-null  float64 \n",
      " 23  total_points_pg_last_all                    105642 non-null  float64 \n",
      " 24  total_points_team_pg_last_1                 105642 non-null  float64 \n",
      " 25  total_points_team_pg_last_10                105642 non-null  float64 \n",
      " 26  total_points_team_pg_last_10_opponent       105642 non-null  float64 \n",
      " 27  total_points_team_pg_last_1_opponent        105642 non-null  float64 \n",
      " 28  total_points_team_pg_last_2                 105642 non-null  float64 \n",
      " 29  total_points_team_pg_last_2_opponent        105642 non-null  float64 \n",
      " 30  total_points_team_pg_last_3                 105642 non-null  float64 \n",
      " 31  total_points_team_pg_last_3_opponent        105642 non-null  float64 \n",
      " 32  total_points_team_pg_last_4                 105642 non-null  float64 \n",
      " 33  total_points_team_pg_last_4_opponent        105642 non-null  float64 \n",
      " 34  total_points_team_pg_last_5                 105642 non-null  float64 \n",
      " 35  total_points_team_pg_last_5_opponent        105642 non-null  float64 \n",
      " 36  total_points_team_pg_last_all               105642 non-null  float64 \n",
      " 37  total_points_team_pg_last_all_opponent      105642 non-null  float64 \n",
      " 38  was_home                                    105642 non-null  bool    \n",
      "dtypes: bool(1), category(2), float64(30), int64(3), object(3)\n",
      "memory usage: 29.3+ MB\n"
     ]
    }
   ],
   "source": [
    "train_valid_df.info()"
   ]
  },
  {
   "cell_type": "code",
   "execution_count": 73,
   "metadata": {},
   "outputs": [],
   "source": [
    "# need to remove 0 minute rows from the validation set\n",
    "train_valid_df = pd.concat([train_valid_df.loc[train_idx],\n",
    "                            train_valid_df.loc[valid_idx][train_valid_df.loc[valid_idx]['minutes'] > 0]],\n",
    "                           ignore_index=True)"
   ]
  },
  {
   "cell_type": "code",
   "execution_count": 74,
   "metadata": {},
   "outputs": [],
   "source": [
    "# and redo the valid indexes\n",
    "valid_idx = range(valid_idx[0], train_valid_df.index.max() + 1)"
   ]
  },
  {
   "cell_type": "code",
   "execution_count": 75,
   "metadata": {},
   "outputs": [
    {
     "data": {
      "text/plain": [
       "range(104900, 105202)"
      ]
     },
     "execution_count": 75,
     "metadata": {},
     "output_type": "execute_result"
    }
   ],
   "source": [
    "# create train/valid splits\n",
    "splits = (list(train_idx), list(valid_idx))\n",
    "valid_idx"
   ]
  },
  {
   "cell_type": "code",
   "execution_count": 76,
   "metadata": {
    "scrolled": true
   },
   "outputs": [
    {
     "data": {
      "text/plain": [
       "gw                 38\n",
       "season              5\n",
       "position            4\n",
       "team               30\n",
       "opponent_team      30\n",
       "was_home            2\n",
       "player           1477\n",
       "dtype: int64"
      ]
     },
     "execution_count": 76,
     "metadata": {},
     "output_type": "execute_result"
    }
   ],
   "source": [
    "train_valid_df[cat_vars + ['player']].nunique()"
   ]
  },
  {
   "cell_type": "code",
   "execution_count": 77,
   "metadata": {},
   "outputs": [
    {
     "data": {
      "text/plain": [
       "['gw', 'season', 'position', 'team', 'opponent_team', 'was_home', 'player']"
      ]
     },
     "execution_count": 77,
     "metadata": {},
     "output_type": "execute_result"
    }
   ],
   "source": [
    "cat_vars + ['player']"
   ]
  },
  {
   "cell_type": "code",
   "execution_count": 78,
   "metadata": {},
   "outputs": [],
   "source": [
    "# processors - categorify categorical variables and normalize continuous variables\n",
    "# fill missing not used because new teams are almost certainly well below the league average\n",
    "procs=[FillMissing, Categorify, Normalize]\n",
    "to_nn = TabularPandas(train_valid_df, procs, cat_vars + ['player'], cont_vars, #+ player_lag_vars + team_lag_vars,\n",
    "                      splits=splits, y_names=dep_var)"
   ]
  },
  {
   "cell_type": "code",
   "execution_count": 79,
   "metadata": {},
   "outputs": [],
   "source": [
    "# dls = to_nn.dataloaders()\n",
    "dls = to_nn.dataloaders()"
   ]
  },
  {
   "cell_type": "code",
   "execution_count": 80,
   "metadata": {},
   "outputs": [
    {
     "data": {
      "text/html": [
       "<table border=\"1\" class=\"dataframe\">\n",
       "  <thead>\n",
       "    <tr style=\"text-align: right;\">\n",
       "      <th></th>\n",
       "      <th>gw</th>\n",
       "      <th>season</th>\n",
       "      <th>position</th>\n",
       "      <th>team</th>\n",
       "      <th>opponent_team</th>\n",
       "      <th>was_home</th>\n",
       "      <th>player</th>\n",
       "      <th>relative_market_value_team_season_na</th>\n",
       "      <th>relative_market_value_opponent_team_season_na</th>\n",
       "      <th>minutes</th>\n",
       "      <th>relative_market_value_team_season</th>\n",
       "      <th>relative_market_value_opponent_team_season</th>\n",
       "      <th>total_points</th>\n",
       "    </tr>\n",
       "  </thead>\n",
       "  <tbody>\n",
       "    <tr>\n",
       "      <th>0</th>\n",
       "      <td>8</td>\n",
       "      <td>1920</td>\n",
       "      <td>3</td>\n",
       "      <td>Manchester United</td>\n",
       "      <td>Newcastle United</td>\n",
       "      <td>False</td>\n",
       "      <td>Andreas Pereira</td>\n",
       "      <td>False</td>\n",
       "      <td>False</td>\n",
       "      <td>90.000000</td>\n",
       "      <td>1.679697</td>\n",
       "      <td>0.542356</td>\n",
       "      <td>2.0</td>\n",
       "    </tr>\n",
       "    <tr>\n",
       "      <th>1</th>\n",
       "      <td>22</td>\n",
       "      <td>1819</td>\n",
       "      <td>2</td>\n",
       "      <td>Wolverhampton Wanderers</td>\n",
       "      <td>Manchester City</td>\n",
       "      <td>False</td>\n",
       "      <td>Willy Boly</td>\n",
       "      <td>False</td>\n",
       "      <td>False</td>\n",
       "      <td>18.000001</td>\n",
       "      <td>0.388177</td>\n",
       "      <td>2.540586</td>\n",
       "      <td>-3.0</td>\n",
       "    </tr>\n",
       "    <tr>\n",
       "      <th>2</th>\n",
       "      <td>9</td>\n",
       "      <td>1920</td>\n",
       "      <td>3</td>\n",
       "      <td>Burnley</td>\n",
       "      <td>Leicester City</td>\n",
       "      <td>False</td>\n",
       "      <td>Dwight McNeil</td>\n",
       "      <td>False</td>\n",
       "      <td>False</td>\n",
       "      <td>90.000000</td>\n",
       "      <td>0.441800</td>\n",
       "      <td>0.886283</td>\n",
       "      <td>5.0</td>\n",
       "    </tr>\n",
       "    <tr>\n",
       "      <th>3</th>\n",
       "      <td>9</td>\n",
       "      <td>2021</td>\n",
       "      <td>3</td>\n",
       "      <td>Aston Villa</td>\n",
       "      <td>Brighton and Hove Albion</td>\n",
       "      <td>True</td>\n",
       "      <td>Mahmoud Ahmed Ibrahim Hassan</td>\n",
       "      <td>True</td>\n",
       "      <td>True</td>\n",
       "      <td>90.000000</td>\n",
       "      <td>0.704200</td>\n",
       "      <td>0.704200</td>\n",
       "      <td>2.0</td>\n",
       "    </tr>\n",
       "    <tr>\n",
       "      <th>4</th>\n",
       "      <td>28</td>\n",
       "      <td>1920</td>\n",
       "      <td>3</td>\n",
       "      <td>Brighton and Hove Albion</td>\n",
       "      <td>Crystal Palace</td>\n",
       "      <td>True</td>\n",
       "      <td>Aaron Mooy</td>\n",
       "      <td>False</td>\n",
       "      <td>False</td>\n",
       "      <td>90.000000</td>\n",
       "      <td>0.476156</td>\n",
       "      <td>0.495374</td>\n",
       "      <td>2.0</td>\n",
       "    </tr>\n",
       "    <tr>\n",
       "      <th>5</th>\n",
       "      <td>38</td>\n",
       "      <td>1718</td>\n",
       "      <td>4</td>\n",
       "      <td>Manchester United</td>\n",
       "      <td>Watford</td>\n",
       "      <td>True</td>\n",
       "      <td>Marcus Rashford</td>\n",
       "      <td>False</td>\n",
       "      <td>False</td>\n",
       "      <td>90.000000</td>\n",
       "      <td>2.110135</td>\n",
       "      <td>0.547242</td>\n",
       "      <td>8.0</td>\n",
       "    </tr>\n",
       "    <tr>\n",
       "      <th>6</th>\n",
       "      <td>24</td>\n",
       "      <td>1920</td>\n",
       "      <td>2</td>\n",
       "      <td>Leicester City</td>\n",
       "      <td>West Ham United</td>\n",
       "      <td>True</td>\n",
       "      <td>Ricardo Domingos Barbosa Pereira</td>\n",
       "      <td>False</td>\n",
       "      <td>False</td>\n",
       "      <td>90.000000</td>\n",
       "      <td>0.886283</td>\n",
       "      <td>0.739196</td>\n",
       "      <td>12.0</td>\n",
       "    </tr>\n",
       "    <tr>\n",
       "      <th>7</th>\n",
       "      <td>22</td>\n",
       "      <td>1718</td>\n",
       "      <td>3</td>\n",
       "      <td>Tottenham Hotspur</td>\n",
       "      <td>Swansea City</td>\n",
       "      <td>False</td>\n",
       "      <td>Heung-Min Son</td>\n",
       "      <td>False</td>\n",
       "      <td>False</td>\n",
       "      <td>90.000000</td>\n",
       "      <td>1.751141</td>\n",
       "      <td>0.560457</td>\n",
       "      <td>3.0</td>\n",
       "    </tr>\n",
       "    <tr>\n",
       "      <th>8</th>\n",
       "      <td>21</td>\n",
       "      <td>1718</td>\n",
       "      <td>2</td>\n",
       "      <td>Stoke City</td>\n",
       "      <td>Chelsea</td>\n",
       "      <td>False</td>\n",
       "      <td>Josh Tymon</td>\n",
       "      <td>False</td>\n",
       "      <td>False</td>\n",
       "      <td>90.000000</td>\n",
       "      <td>0.581587</td>\n",
       "      <td>2.125018</td>\n",
       "      <td>0.0</td>\n",
       "    </tr>\n",
       "    <tr>\n",
       "      <th>9</th>\n",
       "      <td>10</td>\n",
       "      <td>2021</td>\n",
       "      <td>2</td>\n",
       "      <td>Sheffield United</td>\n",
       "      <td>West Bromwich Albion</td>\n",
       "      <td>False</td>\n",
       "      <td>Max Lowe</td>\n",
       "      <td>True</td>\n",
       "      <td>True</td>\n",
       "      <td>90.000000</td>\n",
       "      <td>0.704200</td>\n",
       "      <td>0.704200</td>\n",
       "      <td>2.0</td>\n",
       "    </tr>\n",
       "  </tbody>\n",
       "</table>"
      ],
      "text/plain": [
       "<IPython.core.display.HTML object>"
      ]
     },
     "metadata": {},
     "output_type": "display_data"
    }
   ],
   "source": [
    "dls.show_batch()"
   ]
  },
  {
   "cell_type": "code",
   "execution_count": 81,
   "metadata": {},
   "outputs": [],
   "source": [
    "# set range of predictions - minimum to current max\n",
    "max_y = np.max(lag_train_df['total_points'])\n",
    "min_y = np.min(lag_train_df['total_points'])\n",
    "y_range = (-1, max_y)"
   ]
  },
  {
   "cell_type": "markdown",
   "metadata": {},
   "source": [
    "# Training a tabular learner from FastAI"
   ]
  },
  {
   "cell_type": "code",
   "execution_count": 82,
   "metadata": {},
   "outputs": [],
   "source": [
    "# learn = tabular_learner(dls, y_range=y_range, layers=[1000,500], ps=[0.001,0.01], emb_drop=0.04,\n",
    "#                         n_out=1, loss_func=F.mse_loss, metrics=rmse)\n",
    "\n",
    "learn = tabular_learner(dls, y_range=y_range, layers=[500,250], loss_func=F.mse_loss, metrics=rmse)"
   ]
  },
  {
   "cell_type": "code",
   "execution_count": 83,
   "metadata": {},
   "outputs": [
    {
     "data": {
      "text/html": [],
      "text/plain": [
       "<IPython.core.display.HTML object>"
      ]
     },
     "metadata": {},
     "output_type": "display_data"
    },
    {
     "data": {
      "text/plain": [
       "SuggestedLRs(lr_min=0.33113112449646, lr_steep=0.0020892962347716093)"
      ]
     },
     "execution_count": 83,
     "metadata": {},
     "output_type": "execute_result"
    },
    {
     "data": {
      "image/png": "[encoded data removed]",
      "text/plain": [
       "<Figure size 432x288 with 1 Axes>"
      ]
     },
     "metadata": {
      "needs_background": "light"
     },
     "output_type": "display_data"
    }
   ],
   "source": [
    "learn.lr_find()"
   ]
  },
  {
   "cell_type": "code",
   "execution_count": null,
   "metadata": {},
   "outputs": [
    {
     "data": {
      "text/html": [
       "\n",
       "    <div>\n",
       "        <style>\n",
       "            /* Turns off some styling */\n",
       "            progress {\n",
       "                /* gets rid of default border in Firefox and Opera. */\n",
       "                border: none;\n",
       "                /* Needs to be in here for Safari polyfill so background images work as expected. */\n",
       "                background-size: auto;\n",
       "            }\n",
       "            .progress-bar-interrupted, .progress-bar-interrupted::-webkit-progress-bar {\n",
       "                background: #F44336;\n",
       "            }\n",
       "        </style>\n",
       "      <progress value='1' class='' max='2' style='width:300px; height:20px; vertical-align: middle;'></progress>\n",
       "      50.00% [1/2 00:23<00:23]\n",
       "    </div>\n",
       "    \n",
       "<table border=\"1\" class=\"dataframe\">\n",
       "  <thead>\n",
       "    <tr style=\"text-align: left;\">\n",
       "      <th>epoch</th>\n",
       "      <th>train_loss</th>\n",
       "      <th>valid_loss</th>\n",
       "      <th>_rmse</th>\n",
       "      <th>time</th>\n",
       "    </tr>\n",
       "  </thead>\n",
       "  <tbody>\n",
       "    <tr>\n",
       "      <td>0</td>\n",
       "      <td>3.580276</td>\n",
       "      <td>6.587432</td>\n",
       "      <td>2.566599</td>\n",
       "      <td>00:23</td>\n",
       "    </tr>\n",
       "  </tbody>\n",
       "</table><p>\n",
       "\n",
       "    <div>\n",
       "        <style>\n",
       "            /* Turns off some styling */\n",
       "            progress {\n",
       "                /* gets rid of default border in Firefox and Opera. */\n",
       "                border: none;\n",
       "                /* Needs to be in here for Safari polyfill so background images work as expected. */\n",
       "                background-size: auto;\n",
       "            }\n",
       "            .progress-bar-interrupted, .progress-bar-interrupted::-webkit-progress-bar {\n",
       "                background: #F44336;\n",
       "            }\n",
       "        </style>\n",
       "      <progress value='624' class='' max='1639' style='width:300px; height:20px; vertical-align: middle;'></progress>\n",
       "      38.07% [624/1639 00:08<00:14 3.4761]\n",
       "    </div>\n",
       "    "
      ],
      "text/plain": [
       "<IPython.core.display.HTML object>"
      ]
     },
     "metadata": {},
     "output_type": "display_data"
    }
   ],
   "source": [
    "# [500, 250]\n",
    "learn.fit_one_cycle(2, 5e-3, wd=0.2)"
   ]
  },
  {
   "cell_type": "code",
   "execution_count": null,
   "metadata": {},
   "outputs": [],
   "source": [
    "# check that rmse matches the training output above\n",
    "preds,targs = learn.get_preds()\n",
    "r_mse(preds,targs)"
   ]
  },
  {
   "cell_type": "code",
   "execution_count": null,
   "metadata": {},
   "outputs": [],
   "source": [
    "preds.size()"
   ]
  },
  {
   "cell_type": "code",
   "execution_count": null,
   "metadata": {},
   "outputs": [],
   "source": [
    "valid_gws = np.arange(valid_gw, valid_gw + valid_len, 1)\n",
    "print(valid_gws)"
   ]
  },
  {
   "cell_type": "code",
   "execution_count": null,
   "metadata": {},
   "outputs": [],
   "source": [
    "preds_gw_df = train_valid_df[['player'] + cat_vars + cont_vars + dep_var].copy()\n",
    "preds_gw_df = preds_gw_df[preds_gw_df['gw'] == valid_gw]\n",
    "preds_gw_df = preds_gw_df[preds_gw_df['season'] == valid_season]\n",
    "preds_gw_df.info()"
   ]
  },
  {
   "cell_type": "code",
   "execution_count": null,
   "metadata": {},
   "outputs": [],
   "source": [
    "preds_gw_df['predicted_points'] = preds.data.cpu().numpy()\n",
    "preds_gw_df"
   ]
  },
  {
   "cell_type": "code",
   "execution_count": null,
   "metadata": {},
   "outputs": [],
   "source": [
    "# get the precited points of a single player in a gw\n",
    "player_prediction = preds_gw_df[preds_gw_df['player'] == 'Harry Kane'].predicted_points\n",
    "player_prediction.iloc[0]"
   ]
  },
  {
   "cell_type": "code",
   "execution_count": null,
   "metadata": {},
   "outputs": [],
   "source": [
    "# ordered by precited points\n",
    "preds_gw_df.sort_values(by='predicted_points', ascending=False).head()"
   ]
  },
  {
   "cell_type": "markdown",
   "metadata": {},
   "source": [
    "# Saving data to a csv file"
   ]
  },
  {
   "cell_type": "code",
   "execution_count": null,
   "metadata": {},
   "outputs": [],
   "source": [
    "preds_gw_df.to_csv('data/predictions_for_season_' + str(valid_season) + '_gw_' + str(valid_gw) + '.csv')"
   ]
  },
  {
   "cell_type": "code",
   "execution_count": null,
   "metadata": {},
   "outputs": [],
   "source": []
  }
 ],
 "metadata": {
  "kernelspec": {
   "display_name": "Python 3",
   "language": "python",
   "name": "python3"
  },
  "language_info": {
   "codemirror_mode": {
    "name": "ipython",
    "version": 3
   },
   "file_extension": ".py",
   "mimetype": "text/x-python",
   "name": "python",
   "nbconvert_exporter": "python",
   "pygments_lexer": "ipython3",
   "version": "3.9.2"
  }
 },
 "nbformat": 4,
 "nbformat_minor": 4
}
